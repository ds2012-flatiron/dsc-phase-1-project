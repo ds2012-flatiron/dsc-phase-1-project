{
 "cells": [
  {
   "cell_type": "markdown",
   "metadata": {},
   "source": [
    "## Final Project Submission\n",
    "\n",
    "Please fill out:\n",
    "* Student name: \n",
    "* Student pace: self paced / part time / full time\n",
    "* Scheduled project review date/time: \n",
    "* Instructor name: \n",
    "* Blog post URL:\n"
   ]
  },
  {
   "cell_type": "markdown",
   "metadata": {},
   "source": [
    "### Import libraries to perform utility operations:\n",
    "* convert user-created flat and easy to edit configuration (housed in ./config/user_config.json) to a production json file 'config.json';\n",
    "* unzip all compressed files and move these unzipped files to \"./data\" folder from \"./zippedData\";\n",
    "* check that every .gz file has a corresponding text file\n"
   ]
  },
  {
   "cell_type": "code",
   "execution_count": 51,
   "metadata": {},
   "outputs": [],
   "source": [
    "import os\n",
    "import importlib\n",
    "import code.utils as ut"
   ]
  },
  {
   "cell_type": "markdown",
   "metadata": {},
   "source": [
    "### Convert user defined configuration file to production level configuration file"
   ]
  },
  {
   "cell_type": "code",
   "execution_count": 52,
   "metadata": {},
   "outputs": [],
   "source": [
    "user_config = \"./config/user_config.json\"\n",
    "if os.path.exists(user_config):\n",
    "    ut.convert_user_config_to_json(user_config)"
   ]
  },
  {
   "cell_type": "markdown",
   "metadata": {},
   "source": [
    "### Use utility functions to decompress data files"
   ]
  },
  {
   "cell_type": "code",
   "execution_count": 54,
   "metadata": {},
   "outputs": [],
   "source": [
    "importlib.reload(ut)\n",
    "\n",
    "### LOAD CONFIG\n",
    "config = ut.load_json_config()\n",
    "\n",
    "### CREATE A LIST OF .GZ FILES\n",
    "zipFileNames = ut.generate_zipfilename_list_from_config(config)\n",
    "for zipName in zipFileNames:\n",
    "    txtName = zipName[:-len('.gz')]\n",
    "    ut.unzip_gz_file(zipName, txtName, config['folders']['data-zip'], config['folders']['data-csv'])"
   ]
  },
  {
   "cell_type": "markdown",
   "metadata": {},
   "source": [
    "### Check Results of Decompression"
   ]
  },
  {
   "cell_type": "code",
   "execution_count": 59,
   "metadata": {},
   "outputs": [
    {
     "name": "stdout",
     "output_type": "stream",
     "text": [
      "zip file: bom.movie_gross.csv.gz\n",
      "txt file: bom.movie_gross.csv\n",
      "---\n",
      "zip file: imdb.name.basics.csv.gz\n",
      "txt file: imdb.name.basics.csv\n",
      "---\n",
      "zip file: imdb.title.akas.csv.gz\n",
      "txt file: imdb.title.akas.csv\n",
      "---\n",
      "zip file: imdb.title.basics.csv.gz\n",
      "txt file: imdb.title.basics.csv\n",
      "---\n",
      "zip file: imdb.title.crew.csv.gz\n",
      "txt file: imdb.title.crew.csv\n",
      "---\n",
      "zip file: imdb.title.principals.csv.gz\n",
      "txt file: imdb.title.principals.csv\n",
      "---\n",
      "zip file: imdb.title.ratings.csv.gz\n",
      "txt file: imdb.title.ratings.csv\n",
      "---\n",
      "zip file: rt.movie_info.tsv.gz\n",
      "txt file: rt.movie_info.tsv\n",
      "---\n",
      "zip file: rt.reviews.tsv.gz\n",
      "txt file: rt.reviews.tsv\n",
      "---\n",
      "zip file: tmdb.movies.csv.gz\n",
      "txt file: tmdb.movies.csv\n",
      "---\n",
      "zip file: tn.movie_budgets.csv.gz\n",
      "txt file: tn.movie_budgets.csv\n",
      "---\n"
     ]
    }
   ],
   "source": [
    "from os import listdir\n",
    "from os.path import isfile, join\n",
    "zipFiles = [f for f in os.listdir('./zippedData') if os.path.isfile(os.path.join('./zippedData', f))]\n",
    "txtFiles = [f for f in os.listdir('./data') if os.path.isfile(os.path.join('./data', f))]\n",
    "for zf, tf in zip(zipFiles, txtFiles):\n",
    "    print(f\"zip file: {zf}\\ntxt file: {tf}\\n---\")"
   ]
  }
 ],
 "metadata": {
  "kernelspec": {
   "display_name": "Python 3",
   "language": "python",
   "name": "python3"
  },
  "language_info": {
   "codemirror_mode": {
    "name": "ipython",
    "version": 3
   },
   "file_extension": ".py",
   "mimetype": "text/x-python",
   "name": "python",
   "nbconvert_exporter": "python",
   "pygments_lexer": "ipython3",
   "version": "3.8.5"
  }
 },
 "nbformat": 4,
 "nbformat_minor": 2
}
